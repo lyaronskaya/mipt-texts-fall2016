{
 "cells": [
  {
   "cell_type": "code",
   "execution_count": 1,
   "metadata": {
    "collapsed": false
   },
   "outputs": [],
   "source": [
    "import numpy as np\n",
    "import pandas as pd\n",
    "\n",
    "from sklearn.feature_extraction.text import CountVectorizer, TfidfVectorizer\n",
    "import nltk\n",
    "from nltk.collocations import *\n",
    "from nltk.tokenize import *\n",
    "from sklearn.manifold import TSNE\n",
    "from sklearn.cluster import KMeans, AgglomerativeClustering\n",
    "from sklearn.decomposition import PCA, TruncatedSVD\n",
    "\n",
    "import matplotlib.pyplot as plt\n",
    "%matplotlib inline"
   ]
  },
  {
   "cell_type": "markdown",
   "metadata": {},
   "source": [
    "### a, b"
   ]
  },
  {
   "cell_type": "code",
   "execution_count": 2,
   "metadata": {
    "collapsed": false
   },
   "outputs": [],
   "source": [
    "aliases = pd.read_csv('Aliases.csv')\n",
    "email_receivers = pd.read_csv('EmailReceivers.csv')\n",
    "emails = pd.read_csv('Emails.csv')\n",
    "persons = pd.read_csv('Persons.csv')"
   ]
  },
  {
   "cell_type": "code",
   "execution_count": 4,
   "metadata": {
    "collapsed": false
   },
   "outputs": [
    {
     "data": {
      "text/html": [
       "<div>\n",
       "<table border=\"1\" class=\"dataframe\">\n",
       "  <thead>\n",
       "    <tr style=\"text-align: right;\">\n",
       "      <th></th>\n",
       "      <th>Id</th>\n",
       "      <th>Alias</th>\n",
       "      <th>PersonId</th>\n",
       "    </tr>\n",
       "  </thead>\n",
       "  <tbody>\n",
       "    <tr>\n",
       "      <th>0</th>\n",
       "      <td>1</td>\n",
       "      <td>111th congress</td>\n",
       "      <td>1</td>\n",
       "    </tr>\n",
       "    <tr>\n",
       "      <th>1</th>\n",
       "      <td>2</td>\n",
       "      <td>agna usemb kabul afghanistan</td>\n",
       "      <td>2</td>\n",
       "    </tr>\n",
       "    <tr>\n",
       "      <th>2</th>\n",
       "      <td>3</td>\n",
       "      <td>ap</td>\n",
       "      <td>3</td>\n",
       "    </tr>\n",
       "    <tr>\n",
       "      <th>3</th>\n",
       "      <td>4</td>\n",
       "      <td>asuncion</td>\n",
       "      <td>4</td>\n",
       "    </tr>\n",
       "    <tr>\n",
       "      <th>4</th>\n",
       "      <td>5</td>\n",
       "      <td>alec</td>\n",
       "      <td>5</td>\n",
       "    </tr>\n",
       "  </tbody>\n",
       "</table>\n",
       "</div>"
      ],
      "text/plain": [
       "   Id                         Alias  PersonId\n",
       "0   1                111th congress         1\n",
       "1   2  agna usemb kabul afghanistan         2\n",
       "2   3                            ap         3\n",
       "3   4                      asuncion         4\n",
       "4   5                          alec         5"
      ]
     },
     "execution_count": 4,
     "metadata": {},
     "output_type": "execute_result"
    }
   ],
   "source": [
    "aliases.head()"
   ]
  },
  {
   "cell_type": "code",
   "execution_count": 5,
   "metadata": {
    "collapsed": false
   },
   "outputs": [
    {
     "data": {
      "text/html": [
       "<div>\n",
       "<table border=\"1\" class=\"dataframe\">\n",
       "  <thead>\n",
       "    <tr style=\"text-align: right;\">\n",
       "      <th></th>\n",
       "      <th>Id</th>\n",
       "      <th>EmailId</th>\n",
       "      <th>PersonId</th>\n",
       "    </tr>\n",
       "  </thead>\n",
       "  <tbody>\n",
       "    <tr>\n",
       "      <th>0</th>\n",
       "      <td>1</td>\n",
       "      <td>1</td>\n",
       "      <td>80</td>\n",
       "    </tr>\n",
       "    <tr>\n",
       "      <th>1</th>\n",
       "      <td>2</td>\n",
       "      <td>2</td>\n",
       "      <td>80</td>\n",
       "    </tr>\n",
       "    <tr>\n",
       "      <th>2</th>\n",
       "      <td>3</td>\n",
       "      <td>3</td>\n",
       "      <td>228</td>\n",
       "    </tr>\n",
       "    <tr>\n",
       "      <th>3</th>\n",
       "      <td>4</td>\n",
       "      <td>3</td>\n",
       "      <td>80</td>\n",
       "    </tr>\n",
       "    <tr>\n",
       "      <th>4</th>\n",
       "      <td>5</td>\n",
       "      <td>4</td>\n",
       "      <td>80</td>\n",
       "    </tr>\n",
       "  </tbody>\n",
       "</table>\n",
       "</div>"
      ],
      "text/plain": [
       "   Id  EmailId  PersonId\n",
       "0   1        1        80\n",
       "1   2        2        80\n",
       "2   3        3       228\n",
       "3   4        3        80\n",
       "4   5        4        80"
      ]
     },
     "execution_count": 5,
     "metadata": {},
     "output_type": "execute_result"
    }
   ],
   "source": [
    "email_receivers.head()"
   ]
  },
  {
   "cell_type": "code",
   "execution_count": 6,
   "metadata": {
    "collapsed": false
   },
   "outputs": [
    {
     "data": {
      "text/html": [
       "<div>\n",
       "<table border=\"1\" class=\"dataframe\">\n",
       "  <thead>\n",
       "    <tr style=\"text-align: right;\">\n",
       "      <th></th>\n",
       "      <th>Id</th>\n",
       "      <th>DocNumber</th>\n",
       "      <th>MetadataSubject</th>\n",
       "      <th>MetadataTo</th>\n",
       "      <th>MetadataFrom</th>\n",
       "      <th>SenderPersonId</th>\n",
       "      <th>MetadataDateSent</th>\n",
       "      <th>MetadataDateReleased</th>\n",
       "      <th>MetadataPdfLink</th>\n",
       "      <th>MetadataCaseNumber</th>\n",
       "      <th>...</th>\n",
       "      <th>ExtractedTo</th>\n",
       "      <th>ExtractedFrom</th>\n",
       "      <th>ExtractedCc</th>\n",
       "      <th>ExtractedDateSent</th>\n",
       "      <th>ExtractedCaseNumber</th>\n",
       "      <th>ExtractedDocNumber</th>\n",
       "      <th>ExtractedDateReleased</th>\n",
       "      <th>ExtractedReleaseInPartOrFull</th>\n",
       "      <th>ExtractedBodyText</th>\n",
       "      <th>RawText</th>\n",
       "    </tr>\n",
       "  </thead>\n",
       "  <tbody>\n",
       "    <tr>\n",
       "      <th>0</th>\n",
       "      <td>1</td>\n",
       "      <td>C05739545</td>\n",
       "      <td>WOW</td>\n",
       "      <td>H</td>\n",
       "      <td>Sullivan, Jacob J</td>\n",
       "      <td>87</td>\n",
       "      <td>2012-09-12T04:00:00+00:00</td>\n",
       "      <td>2015-05-22T04:00:00+00:00</td>\n",
       "      <td>DOCUMENTS/HRC_Email_1_296/HRCH2/DOC_0C05739545...</td>\n",
       "      <td>F-2015-04841</td>\n",
       "      <td>...</td>\n",
       "      <td>NaN</td>\n",
       "      <td>Sullivan, Jacob J &lt;Sullivan11@state.gov&gt;</td>\n",
       "      <td>NaN</td>\n",
       "      <td>Wednesday, September 12, 2012 10:16 AM</td>\n",
       "      <td>F-2015-04841</td>\n",
       "      <td>C05739545</td>\n",
       "      <td>05/13/2015</td>\n",
       "      <td>RELEASE IN FULL</td>\n",
       "      <td>NaN</td>\n",
       "      <td>UNCLASSIFIED\\nU.S. Department of State\\nCase N...</td>\n",
       "    </tr>\n",
       "    <tr>\n",
       "      <th>1</th>\n",
       "      <td>2</td>\n",
       "      <td>C05739546</td>\n",
       "      <td>H: LATEST: HOW SYRIA IS AIDING QADDAFI AND MOR...</td>\n",
       "      <td>H</td>\n",
       "      <td>NaN</td>\n",
       "      <td>NaN</td>\n",
       "      <td>2011-03-03T05:00:00+00:00</td>\n",
       "      <td>2015-05-22T04:00:00+00:00</td>\n",
       "      <td>DOCUMENTS/HRC_Email_1_296/HRCH1/DOC_0C05739546...</td>\n",
       "      <td>F-2015-04841</td>\n",
       "      <td>...</td>\n",
       "      <td>NaN</td>\n",
       "      <td>NaN</td>\n",
       "      <td>NaN</td>\n",
       "      <td>NaN</td>\n",
       "      <td>F-2015-04841</td>\n",
       "      <td>C05739546</td>\n",
       "      <td>05/13/2015</td>\n",
       "      <td>RELEASE IN PART</td>\n",
       "      <td>B6\\nThursday, March 3, 2011 9:45 PM\\nH: Latest...</td>\n",
       "      <td>UNCLASSIFIED\\nU.S. Department of State\\nCase N...</td>\n",
       "    </tr>\n",
       "    <tr>\n",
       "      <th>2</th>\n",
       "      <td>3</td>\n",
       "      <td>C05739547</td>\n",
       "      <td>CHRIS STEVENS</td>\n",
       "      <td>;H</td>\n",
       "      <td>Mills, Cheryl D</td>\n",
       "      <td>32</td>\n",
       "      <td>2012-09-12T04:00:00+00:00</td>\n",
       "      <td>2015-05-22T04:00:00+00:00</td>\n",
       "      <td>DOCUMENTS/HRC_Email_1_296/HRCH2/DOC_0C05739547...</td>\n",
       "      <td>F-2015-04841</td>\n",
       "      <td>...</td>\n",
       "      <td>B6</td>\n",
       "      <td>Mills, Cheryl D &lt;MillsCD@state.gov&gt;</td>\n",
       "      <td>Abedin, Huma</td>\n",
       "      <td>Wednesday, September 12, 2012 11:52 AM</td>\n",
       "      <td>F-2015-04841</td>\n",
       "      <td>C05739547</td>\n",
       "      <td>05/14/2015</td>\n",
       "      <td>RELEASE IN PART</td>\n",
       "      <td>Thx</td>\n",
       "      <td>UNCLASSIFIED\\nU.S. Department of State\\nCase N...</td>\n",
       "    </tr>\n",
       "  </tbody>\n",
       "</table>\n",
       "<p>3 rows × 22 columns</p>\n",
       "</div>"
      ],
      "text/plain": [
       "   Id  DocNumber                                    MetadataSubject  \\\n",
       "0   1  C05739545                                                WOW   \n",
       "1   2  C05739546  H: LATEST: HOW SYRIA IS AIDING QADDAFI AND MOR...   \n",
       "2   3  C05739547                                      CHRIS STEVENS   \n",
       "\n",
       "  MetadataTo       MetadataFrom  SenderPersonId           MetadataDateSent  \\\n",
       "0          H  Sullivan, Jacob J              87  2012-09-12T04:00:00+00:00   \n",
       "1          H                NaN             NaN  2011-03-03T05:00:00+00:00   \n",
       "2         ;H    Mills, Cheryl D              32  2012-09-12T04:00:00+00:00   \n",
       "\n",
       "        MetadataDateReleased  \\\n",
       "0  2015-05-22T04:00:00+00:00   \n",
       "1  2015-05-22T04:00:00+00:00   \n",
       "2  2015-05-22T04:00:00+00:00   \n",
       "\n",
       "                                     MetadataPdfLink MetadataCaseNumber  \\\n",
       "0  DOCUMENTS/HRC_Email_1_296/HRCH2/DOC_0C05739545...       F-2015-04841   \n",
       "1  DOCUMENTS/HRC_Email_1_296/HRCH1/DOC_0C05739546...       F-2015-04841   \n",
       "2  DOCUMENTS/HRC_Email_1_296/HRCH2/DOC_0C05739547...       F-2015-04841   \n",
       "\n",
       "                         ...                         ExtractedTo  \\\n",
       "0                        ...                                 NaN   \n",
       "1                        ...                                 NaN   \n",
       "2                        ...                                  B6   \n",
       "\n",
       "                              ExtractedFrom   ExtractedCc  \\\n",
       "0  Sullivan, Jacob J <Sullivan11@state.gov>           NaN   \n",
       "1                                       NaN           NaN   \n",
       "2       Mills, Cheryl D <MillsCD@state.gov>  Abedin, Huma   \n",
       "\n",
       "                        ExtractedDateSent ExtractedCaseNumber  \\\n",
       "0  Wednesday, September 12, 2012 10:16 AM        F-2015-04841   \n",
       "1                                     NaN        F-2015-04841   \n",
       "2  Wednesday, September 12, 2012 11:52 AM        F-2015-04841   \n",
       "\n",
       "  ExtractedDocNumber ExtractedDateReleased ExtractedReleaseInPartOrFull  \\\n",
       "0          C05739545            05/13/2015              RELEASE IN FULL   \n",
       "1          C05739546            05/13/2015              RELEASE IN PART   \n",
       "2          C05739547            05/14/2015              RELEASE IN PART   \n",
       "\n",
       "                                   ExtractedBodyText  \\\n",
       "0                                                NaN   \n",
       "1  B6\\nThursday, March 3, 2011 9:45 PM\\nH: Latest...   \n",
       "2                                                Thx   \n",
       "\n",
       "                                             RawText  \n",
       "0  UNCLASSIFIED\\nU.S. Department of State\\nCase N...  \n",
       "1  UNCLASSIFIED\\nU.S. Department of State\\nCase N...  \n",
       "2  UNCLASSIFIED\\nU.S. Department of State\\nCase N...  \n",
       "\n",
       "[3 rows x 22 columns]"
      ]
     },
     "execution_count": 6,
     "metadata": {},
     "output_type": "execute_result"
    }
   ],
   "source": [
    "emails.head(3)"
   ]
  },
  {
   "cell_type": "code",
   "execution_count": 9,
   "metadata": {
    "collapsed": false
   },
   "outputs": [
    {
     "name": "stdout",
     "output_type": "stream",
     "text": [
      "UNCLASSIFIED\n",
      "U.S. Department of State\n",
      "Case No. F-2015-04841\n",
      "Doc No. C05739546\n",
      "Date: 05/13/2015\n",
      "STATE DEPT. - PRODUCED TO HOUSE SELECT BENGHAZI COMM.\n",
      "SUBJECT TO AGREEMENT ON SENSITIVE INFORMATION & REDACTIONS. NO FOIA WAIVER.\n",
      "RELEASE IN\n",
      "PART B6\n",
      "From:\n",
      "Sent:\n",
      "To:\n",
      "Subject:\n",
      "Attachments:\n",
      "B6\n",
      "Thursday, March 3, 2011 9:45 PM\n",
      "H: Latest How Syria is aiding Qaddafi and more... Sid\n",
      "hrc memo syria aiding libya 030311.docx; hrc memo syria aiding libya 030311.docx\n",
      "CONFIDENTIAL\n",
      "March 3, 2011\n",
      "For: Hillary\n",
      "From: Sid\n",
      "Re: Syria aiding Qaddafi\n",
      "This memo has two parts. Part one is the report that Syria is providing air support for Qaddafi. Part two is a note\n",
      "to Cody from Lord David Owen, former UK foreign secretary on his views of an increasingly complex crisis. It\n",
      "seems that the situation is developing into a protracted civil war with various nations backing opposing sides\n",
      "with unforeseen consequences. Under these circumstances the crucial challenge is to deprive Qaddafi of his\n",
      "strategic depth—his support both financial and military.\n",
      "I. Report\n",
      "During the afternoon of March 3, advisers to Muammar Qaddafi stated privately that the Libyan\n",
      "Leader has decided that civil war is inevitable, pitting troops and mercenary troops loyal to him\n",
      "against the rebel forces gathering around Benghazi. Qaddafi is convinced that these rebels are\n",
      "being supported by the United States, Western Europe and Israel. On March 2 Qaddafi told his\n",
      "son Saif al-Islam that he believes the intelligence services of the United States, Great Britain,\n",
      "Egypt, and France have deployed paramilitary officers to Benghazi to assist in organizing,\n",
      "training, and equipping opposition forces. Qaddafi is convinced that the National Libyan Council\n",
      "(NLC), and its leader, former Minister of Justice Mustafa Mohamed Abdel Galil have been\n",
      "chosen by the foreign powers to replace him. On March 1 advisors to Qaddafi stated that\n",
      "UNCLASSIFIED\n",
      "U.S. Department of State\n",
      "Case No. F-2015-04841\n",
      "Doc No. C05739546\n",
      "Date: 05/13/2015\n",
      "STATE DEPT. - PRODUCED TO HOUSE SELECT BENGHAZI COMM.\n",
      "SUBJECT TO AGREEMENT ON SENSITIVE INFORMATION & REDACTIONS. NO FOIA WAIVER. STATE-SCB0045000\n",
      "\f",
      "UNCLASSIFIED\n",
      "U.S. Department of State\n",
      "Case No. F-2015-04841\n",
      "Doc No. C05739546\n",
      "Date: 05/13/2015\n",
      "STATE DEPT. - PRODUCED TO HOUSE SELECT BENGHAZI COMM.\n",
      "SUBJECT TO AGREEMENT ON SENSITIVE INFORMATION & REDACTIONS. NO FOIA WAIVER.\n",
      "Qaddafi's cousin, Col. Ali Qaddafiddam had failed in efforts to recruit fighters among the\n",
      "Egyptian population living immediately across the border with Libya.\n",
      "These individuals added that during the week of February 21 the Libyan Leader spoke to Syrian\n",
      "President Bashir al-Assad on at least three occasions by secure telephone lines. During the\n",
      "conversations Qaddafi asked that Syrian officers and technicians currently training the Libyan\n",
      "Air Force be placed under command of the Libyan Army and allowed to fight against the rebel\n",
      "forces.\n",
      "(Source Comment: Senior Libyan Army officers still loyal to Qaddafi added that On February\n",
      "23, President Assad told General Isam Hallaq, the commander in chief of the Syrian Air Force,\n",
      "to instruct the pilots and technicians in Tripoli to help the Libyan regime, should full scale Civil\n",
      "War breaks out in the immediate future.)\n",
      "On March 2, a military officer with ties to Qaddfi's son Khamis stated privately that the number\n",
      "of Libyan pilots defecting to the opposition has destroyed the morale and professional spirit of\n",
      "the Libyan Air Force at this critical moment, when Tripoli's air superiority is its principal weapon\n",
      "against insurgents. In the opinion of this individual Qaddafi and his senior military advisors are\n",
      "convinced that the European Union and the U.S will impose a no-fly zone over Libya in the\n",
      "immediate future. These advisors believe that the no fly zone will serve as air support for\n",
      "opposition forces. They are also prepared for the Western allies to bomb anti-aircraft facilities in\n",
      "and around Tripoli in preparation for the establishment of the no-fly zone. Foreign Minister\n",
      "Mousa Kousa is convinced that that Russia and Turkey will oppose the move, and may prevent\n",
      "the implementation of the no fly zone.\n",
      "The Syrian soldiers in Libya are part of a mission established in 1984 following the signing of a\n",
      "military agreement between Qaddafi and Syria's long-time ruler and Bashir's father, Hafez al-\n",
      "Assad, in the presence of General Soubhi Haddad, who was the commander in chief of the Air\n",
      "Force at the time. Both Air Forces are equipped with Russian materiel and have had long-\n",
      "standing, close links with Moscow.\n",
      "Note from David Owen, former UK foreign secretary\n",
      "UNCLASSIFIED\n",
      "U.S. Department of State\n",
      "Case No. F-2015-04841\n",
      "Doc No. C05739546\n",
      "Date: 05/13/2015\n",
      "STATE DEPT. - PRODUCED TO HOUSE SELECT BENGHAZI COMM.\n",
      "SUBJECT TO AGREEMENT ON SENSITIVE INFORMATION & REDACTIONS. NO FOIA WAIVER. STATE-SCB0045001\n",
      "\f",
      "UNCLASSIFIED\n",
      "U.S. Department of State\n",
      "Case No. F-2015-04841\n",
      "Doc No. C05739546\n",
      "Date: 05/13/2015\n",
      "STATE DEPT. - PRODUCED TO HOUSE SELECT BENGHAZI COMM.\n",
      "SUBJECT TO AGREEMENT ON SENSITIVE INFORMATION & REDACTIONS. NO FOIA WAIVER.\n",
      "In exchange for Syria's help, Libya provided financial support to the Syrian state, including funds\n",
      "in support of operations carried out by the Syrian intelligence services in Lebanon. Libyan money\n",
      "helped Hafez al-Assad bribe his brother Rifaat, the author of an attempted coup d'etat in 1983,\n",
      "to leave the country and go into exile in Spain and France, where he has remained ever since.\n",
      "According to individuals with access to the Syrian military, Damascus has also sent a second\n",
      "team of pilots and technicians to Tripoli. These are lower-ranking officers loyal to the regime\n",
      "who are specialized in flying helicopters. Before their departure for Tripoli on February 23, they\n",
      "met with General Allaq and General Jamil Hasan, head of Air Force's Intelligence.\n",
      "(Source Comment: During the afternoon of 3 March, an associate of Saif al-Islam Qaddafi\n",
      "stated that he and the Libyan leaders other family members were concerned over the\n",
      "announcement of Jose Luis Moreno-Ocampo, chief prosecutor of the International Criminal\n",
      "Court (ICC), announced that he was investigating Qaddafi, his sons Khamis, the commander of\n",
      "the 32 battalion, and Montasem, as well as the head of Gadhafi's personal security detail, the\n",
      "Director-General of the External Security Organization (Abuzaid Dorda), the spokesman of the\n",
      "regime (Musa Ibrahim), and the Minister of Foreign Affairs (Mousa Kousa). This source added\n",
      "that Saif al-Islam had said that Qaddafi himself found the announcement amusing.)\n",
      "From: Lord Owen\n",
      "Cody,\n",
      "Realistically the UN will not authorise a no fly zone while Gaddafi continues to hold off bombing and\n",
      "strafing but keeping it up front and on the military agenda keeps him worried. Yet for a few frustrating months\n",
      "that ambivalence kept the Serbian aeroplanes on the ground before we acted. My hope is that preparations\n",
      "continue with visuals of planes flying off carriers, airborne early warning planes flying and people with clout\n",
      "outside the Administration demanding preparations. But and it is a big BUT what else can and should we be\n",
      "doing? Encourage humanitarian ships and convoys from Egypt to bring in supplies since we must ensure the\n",
      "cities in the East can hold up living standards, maybe for months. More adventurous, Egyptian Special Forces to\n",
      "go in and advise, even supplying hand held missiles. It appears they have few missiles; the military in the East\n",
      "having been deliberately kept ill-equipped. There is old Nasserite sentiment for a Federation of Egypt, Sudan\n",
      "and Libya. I know some will say Egypt has enough problems and they should stay resolutely focused on\n",
      "domestic reforms. it is delicate but words alone and the balance of advantage will slip to Gaddafi. A Gaddafi\n",
      "victory is possible and needs to be weighed in the balance now when deciding what to do.\n",
      "I'm more worried than I am ready to say publicly.\n",
      "Yours\n",
      "David\n",
      "UNCLASSIFIED\n",
      "U.S. Department of State\n",
      "Case No. F-2015-04841\n",
      "Doc No. C05739546\n",
      "Date: 05/13/2015\n",
      "STATE DEPT. - PRODUCED TO HOUSE SELECT BENGHAZI COMM.\n",
      "SUBJECT TO AGREEMENT ON SENSITIVE INFORMATION & REDACTIONS. NO FOIA WAIVER. STATE-SCB0045002\n",
      "\f",
      "\n"
     ]
    }
   ],
   "source": [
    "print(emails.RawText[1])"
   ]
  },
  {
   "cell_type": "markdown",
   "metadata": {},
   "source": [
    "### c. \n",
    "\n",
    "Предобработка: приводим к нижнему регистру слова(чтобы уменьшить количество слов), убираем метаданные письма."
   ]
  },
  {
   "cell_type": "code",
   "execution_count": 14,
   "metadata": {
    "collapsed": false
   },
   "outputs": [
    {
     "data": {
      "text/plain": [
       "Index(['Id', 'DocNumber', 'MetadataSubject', 'MetadataTo', 'MetadataFrom',\n",
       "       'SenderPersonId', 'MetadataDateSent', 'MetadataDateReleased',\n",
       "       'MetadataPdfLink', 'MetadataCaseNumber', 'MetadataDocumentClass',\n",
       "       'ExtractedSubject', 'ExtractedTo', 'ExtractedFrom', 'ExtractedCc',\n",
       "       'ExtractedDateSent', 'ExtractedCaseNumber', 'ExtractedDocNumber',\n",
       "       'ExtractedDateReleased', 'ExtractedReleaseInPartOrFull',\n",
       "       'ExtractedBodyText', 'RawText'],\n",
       "      dtype='object')"
      ]
     },
     "execution_count": 14,
     "metadata": {},
     "output_type": "execute_result"
    }
   ],
   "source": [
    "emails.columns"
   ]
  },
  {
   "cell_type": "code",
   "execution_count": 3,
   "metadata": {
    "collapsed": false
   },
   "outputs": [],
   "source": [
    "metadata_prefixes = ('unclassified', 'case no', 'doc no', 'date', 'state', 'subject to agreement', 'release in', \\\n",
    "                    'part', 'from', 'sent', 'to', 'subject:', 'attachments', 'u.s. department of state', \\\n",
    "                     'monday', 'tuesday', 'wednesday', 'thursday', 'friday', 'saturday', 'sunday', \\\n",
    "                    'january', 'february', 'march', 'april', 'may', 'june', 'july', 'august', 'semptember', \\\n",
    "                    'october', 'november', 'december', \\\n",
    "                    'for:', 'from:', 're:', '\\\\x0')"
   ]
  },
  {
   "cell_type": "code",
   "execution_count": 4,
   "metadata": {
    "collapsed": true
   },
   "outputs": [],
   "source": [
    "emails['Cleaned_text'] = emails['RawText'].apply(lambda raw_text: \n",
    "                \" \".join(list(filter(lambda s: not s.startswith(metadata_prefixes), raw_text.lower().split('\\n')))))"
   ]
  },
  {
   "cell_type": "code",
   "execution_count": 5,
   "metadata": {
    "collapsed": false
   },
   "outputs": [
    {
     "data": {
      "text/plain": [
       "\"b6 h: latest how syria is aiding qaddafi and more... sid hrc memo syria aiding libya 030311.docx; hrc memo syria aiding libya 030311.docx confidential this memo has two parts. part one is the report that syria is providing air support for qaddafi. part two is a note seems that the situation is developing into a protracted civil war with various nations backing opposing sides with unforeseen consequences. under these circumstances the crucial challenge is to deprive qaddafi of his strategic depth—his support both financial and military. i. report during the afternoon of march 3, advisers to muammar qaddafi stated privately that the libyan leader has decided that civil war is inevitable, pitting troops and mercenary troops loyal to him against the rebel forces gathering around benghazi. qaddafi is convinced that these rebels are being supported by the united states, western europe and israel. on march 2 qaddafi told his son saif al-islam that he believes the intelligence services of the united states, great britain, egypt, and france have deployed paramilitary officers to benghazi to assist in organizing, training, and equipping opposition forces. qaddafi is convinced that the national libyan council (nlc), and its leader, former minister of justice mustafa mohamed abdel galil have been chosen by the foreign powers to replace him. on march 1 advisors to qaddafi stated that \\x0cunclassified qaddafi's cousin, col. ali qaddafiddam had failed in efforts to recruit fighters among the egyptian population living immediately across the border with libya. these individuals added that during the week of february 21 the libyan leader spoke to syrian president bashir al-assad on at least three occasions by secure telephone lines. during the conversations qaddafi asked that syrian officers and technicians currently training the libyan air force be placed under command of the libyan army and allowed to fight against the rebel forces. (source comment: senior libyan army officers still loyal to qaddafi added that on february 23, president assad told general isam hallaq, the commander in chief of the syrian air force, war breaks out in the immediate future.) on march 2, a military officer with ties to qaddfi's son khamis stated privately that the number of libyan pilots defecting to the opposition has destroyed the morale and professional spirit of the libyan air force at this critical moment, when tripoli's air superiority is its principal weapon against insurgents. in the opinion of this individual qaddafi and his senior military advisors are convinced that the european union and the u.s will impose a no-fly zone over libya in the immediate future. these advisors believe that the no fly zone will serve as air support for opposition forces. they are also prepared for the western allies to bomb anti-aircraft facilities in and around tripoli in preparation for the establishment of the no-fly zone. foreign minister mousa kousa is convinced that that russia and turkey will oppose the move, and may prevent the implementation of the no fly zone. the syrian soldiers in libya are part of a mission established in 1984 following the signing of a military agreement between qaddafi and syria's long-time ruler and bashir's father, hafez al- assad, in the presence of general soubhi haddad, who was the commander in chief of the air force at the time. both air forces are equipped with russian materiel and have had long- standing, close links with moscow. note from david owen, former uk foreign secretary \\x0cunclassified in exchange for syria's help, libya provided financial support to the syrian state, including funds in support of operations carried out by the syrian intelligence services in lebanon. libyan money helped hafez al-assad bribe his brother rifaat, the author of an attempted coup d'etat in 1983, according to individuals with access to the syrian military, damascus has also sent a second team of pilots and technicians to tripoli. these are lower-ranking officers loyal to the regime who are specialized in flying helicopters. before their departure for tripoli on february 23, they met with general allaq and general jamil hasan, head of air force's intelligence. (source comment: during the afternoon of 3 march, an associate of saif al-islam qaddafi announcement of jose luis moreno-ocampo, chief prosecutor of the international criminal court (icc), announced that he was investigating qaddafi, his sons khamis, the commander of the 32 battalion, and montasem, as well as the head of gadhafi's personal security detail, the director-general of the external security organization (abuzaid dorda), the spokesman of the regime (musa ibrahim), and the minister of foreign affairs (mousa kousa). this source added that saif al-islam had said that qaddafi himself found the announcement amusing.) cody, realistically the un will not authorise a no fly zone while gaddafi continues to hold off bombing and strafing but keeping it up front and on the military agenda keeps him worried. yet for a few frustrating months that ambivalence kept the serbian aeroplanes on the ground before we acted. my hope is that preparations continue with visuals of planes flying off carriers, airborne early warning planes flying and people with clout outside the administration demanding preparations. but and it is a big but what else can and should we be doing? encourage humanitarian ships and convoys from egypt to bring in supplies since we must ensure the cities in the east can hold up living standards, maybe for months. more adventurous, egyptian special forces to go in and advise, even supplying hand held missiles. it appears they have few missiles; the military in the east having been deliberately kept ill-equipped. there is old nasserite sentiment for a federation of egypt, sudan and libya. i know some will say egypt has enough problems and they should stay resolutely focused on domestic reforms. it is delicate but words alone and the balance of advantage will slip to gaddafi. a gaddafi victory is possible and needs to be weighed in the balance now when deciding what to do. i'm more worried than i am ready to say publicly. yours david \\x0c\""
      ]
     },
     "execution_count": 5,
     "metadata": {},
     "output_type": "execute_result"
    }
   ],
   "source": [
    "emails.Cleaned_text[1]"
   ]
  },
  {
   "cell_type": "markdown",
   "metadata": {},
   "source": [
    "### d."
   ]
  },
  {
   "cell_type": "code",
   "execution_count": 56,
   "metadata": {
    "collapsed": true
   },
   "outputs": [],
   "source": [
    "vectorizer = CountVectorizer(ngram_range=(2,2))\n",
    "document_bigrams_matrix = vectorizer.fit_transform(emails.Cleaned_text)"
   ]
  },
  {
   "cell_type": "code",
   "execution_count": 54,
   "metadata": {
    "collapsed": false
   },
   "outputs": [],
   "source": [
    "most_frequent_idx = np.argmax(bigram_document_matrix.sum(axis=0), axis=1)"
   ]
  },
  {
   "cell_type": "code",
   "execution_count": 60,
   "metadata": {
    "collapsed": false
   },
   "outputs": [
    {
     "data": {
      "text/plain": [
       "'of the'"
      ]
     },
     "execution_count": 60,
     "metadata": {},
     "output_type": "execute_result"
    }
   ],
   "source": [
    "{i: b for b, i in vectorizer.vocabulary_.items()}[most_frequent_idx[0, 0]]"
   ]
  },
  {
   "cell_type": "markdown",
   "metadata": {},
   "source": [
    "### e."
   ]
  },
  {
   "cell_type": "code",
   "execution_count": 80,
   "metadata": {
    "collapsed": false
   },
   "outputs": [],
   "source": [
    "finder = BigramCollocationFinder.from_words(wordpunct_tokenize(\"\\t\\n\".join(emails.Cleaned_text)), window_size=10)"
   ]
  },
  {
   "cell_type": "code",
   "execution_count": 77,
   "metadata": {
    "collapsed": false
   },
   "outputs": [
    {
     "data": {
      "text/plain": [
       "[('-mukhabarat', 'el-khabeya'),\n",
       " ('15/10/10', '18:22'),\n",
       " ('1865', '281447'),\n",
       " ('2.ahmad', 'bukatela'),\n",
       " ('2ccm-', '86804491_1261527777'),\n",
       " ('3.muhammad', 'al-zahawi'),\n",
       " ('432', '1660'),\n",
       " ('451', '4.4.1'),\n",
       " ('abhisit', 'vejjajiva'),\n",
       " ('abuzaid', 'dorda')]"
      ]
     },
     "execution_count": 77,
     "metadata": {},
     "output_type": "execute_result"
    }
   ],
   "source": [
    "bigram_measures = nltk.collocations.BigramAssocMeasures()\n",
    "finder.apply_freq_filter(3)\n",
    "finder.nbest(bigram_measures.pmi, 10)"
   ]
  },
  {
   "cell_type": "markdown",
   "metadata": {},
   "source": [
    "Вместе встречаются имя и фамилия."
   ]
  },
  {
   "cell_type": "markdown",
   "metadata": {},
   "source": [
    "### f."
   ]
  },
  {
   "cell_type": "code",
   "execution_count": 10,
   "metadata": {
    "collapsed": false
   },
   "outputs": [],
   "source": [
    "vectorizer = TfidfVectorizer(max_features=2000)\n",
    "corpora = vectorizer.fit_transform(emails.Cleaned_text)"
   ]
  },
  {
   "cell_type": "code",
   "execution_count": null,
   "metadata": {
    "collapsed": false
   },
   "outputs": [],
   "source": [
    "tsne = TSNE()\n",
    "X_tsne = tsne.fit_transform(corpora.todense())"
   ]
  },
  {
   "cell_type": "code",
   "execution_count": null,
   "metadata": {
    "collapsed": false
   },
   "outputs": [],
   "source": [
    "kmeans_model = KMeans(n_clusters=3)\n",
    "y = kmeans_model.fit_predict(corpora)"
   ]
  },
  {
   "cell_type": "code",
   "execution_count": null,
   "metadata": {
    "collapsed": false
   },
   "outputs": [],
   "source": [
    "color_dict = plt.cm.hot(np.linspace(0.3, 0.9, 3))\n",
    "plt.figure()\n",
    "plt.scatter(X_tsne[:,0], X_tsne[:,1], c=color_dict[y])\n",
    "plt.show()"
   ]
  },
  {
   "cell_type": "markdown",
   "metadata": {},
   "source": [
    "### g."
   ]
  },
  {
   "cell_type": "code",
   "execution_count": null,
   "metadata": {
    "collapsed": true
   },
   "outputs": [],
   "source": []
  },
  {
   "cell_type": "code",
   "execution_count": null,
   "metadata": {
    "collapsed": true
   },
   "outputs": [],
   "source": []
  },
  {
   "cell_type": "markdown",
   "metadata": {},
   "source": [
    "### 1.\n",
    "\n",
    "Решающее дерево на разреженном пространстве очень большой размерности. Пространство очень разреженное, поэтому при построение дерева в минибатче значения признака могут быть все одинаковые и дерево будет переобучаться.\n",
    "\n",
    "### 2.\n",
    "\n",
    "kfold: 20 20 20 20 15/5 \n",
    "kfold: 19/1 19/1 19/1 19/1 19/1\n",
    "accuracy:\n",
    "1) 0.95: 0.75, 0.95 * 4 0."
   ]
  },
  {
   "cell_type": "code",
   "execution_count": null,
   "metadata": {
    "collapsed": true
   },
   "outputs": [],
   "source": []
  }
 ],
 "metadata": {
  "kernelspec": {
   "display_name": "Python 3",
   "language": "python",
   "name": "python3"
  },
  "language_info": {
   "codemirror_mode": {
    "name": "ipython",
    "version": 3
   },
   "file_extension": ".py",
   "mimetype": "text/x-python",
   "name": "python",
   "nbconvert_exporter": "python",
   "pygments_lexer": "ipython3",
   "version": "3.5.2"
  }
 },
 "nbformat": 4,
 "nbformat_minor": 0
}
